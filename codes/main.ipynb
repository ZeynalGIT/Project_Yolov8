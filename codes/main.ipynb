{
 "cells": [
  {
   "cell_type": "markdown",
   "metadata": {},
   "source": [
    "# Importing all necessary libraries"
   ]
  },
  {
   "cell_type": "code",
   "execution_count": 2,
   "metadata": {},
   "outputs": [],
   "source": [
    "import os\n",
    "from pathlib import Path\n",
    "import cv2\n",
    "import geojson\n",
    "import rasterio\n",
    "import rasterio.mask\n",
    "from rasterio.enums import Resampling\n",
    "from rasterio.features import rasterize\n",
    "import pandas as pd\n",
    "import geopandas as gpd\n",
    "from shapely.geometry import mapping, Point, Polygon\n",
    "from shapely.ops import unary_union\n",
    "import numpy as np\n",
    "import matplotlib.pyplot as plt"
   ]
  },
  {
   "cell_type": "markdown",
   "metadata": {},
   "source": [
    "# Converting Tif files to PNG and saving them "
   ]
  },
  {
   "cell_type": "code",
   "execution_count": null,
   "metadata": {},
   "outputs": [],
   "source": [
    "path = r'' #Folder where Tif files are located\n",
    "dest = r'' #Folder where to save PNG files\n",
    "\n",
    "for files in os.listdir(path):\n",
    "    name = Path(files).stem\n",
    "    name = name + '.png'\n",
    "    with rasterio.open(os.path.join(path, files)) as src:\n",
    "        data = src.read(\n",
    "            out_shape=(src.count, int(src.height), int(src.width)),\n",
    "            resampling = Resampling.bilinear\n",
    "        )\n",
    "        transform = src.transform\n",
    "\n",
    "    with rasterio.open(os.path.join(dest,name),'w',driver='PNG', height=data.shape[1], width=data.shape[2],\n",
    "                       count=src.count, dtype = data.dtype) as dst:\n",
    "        dst.write(data)"
   ]
  },
  {
   "cell_type": "markdown",
   "metadata": {},
   "source": [
    "# Adding Tif (raster) and Geojson (shape) file to the 2 different lists"
   ]
  },
  {
   "cell_type": "code",
   "execution_count": null,
   "metadata": {},
   "outputs": [],
   "source": [
    "rasters_path = r'' #Folder where Tif files are located\n",
    "shapes_path = r'' # Folder where Geojson files are located\n",
    "\n",
    "\n",
    "rasters_list = []\n",
    "shapes_list = []\n",
    "\n",
    "for raster in os.listdir(rasters_path):\n",
    "    raster_list_path = os.path.join(rasters_path, raster)\n",
    "    rasters_list.append(raster_list_path)\n",
    "\n",
    "for shape in os.listdir(shapes_path):\n",
    "    shape_list_path = os.path.join(shapes_path, shape)\n",
    "    shapes_list.append(shape_list_path)"
   ]
  },
  {
   "cell_type": "markdown",
   "metadata": {},
   "source": [
    "# Using Tif and Geojson to create binary mask and then convert it to Yolov8 format (txt file)"
   ]
  },
  {
   "cell_type": "code",
   "execution_count": null,
   "metadata": {},
   "outputs": [],
   "source": [
    "n = len(shapes_list)\n",
    "\n",
    "for i in range(n):\n",
    "    raster_path = rasters_list[i]\n",
    "    shape_path = shapes_list[i]\n",
    "    with open(shape_path, 'r') as file:\n",
    "        gjs_dt = geojson.load(file)\n",
    "\n",
    "    #Checking whether there is object(s) (in our case house(s)) in Geojson file:\n",
    "\n",
    "    if len(gjs_dt['features']) == 0: #if not creating empyt txt file\n",
    "        save_path = r'' #Where to save all txt files\n",
    "        name = Path(raster_path).stem\n",
    "        with open('{}.txt'.format(os.path.join(save_path, name)), 'w') as f:\n",
    "            pass\n",
    "        \n",
    "        \n",
    "    else: #if yes first deleting zeros in third position in geojson files and saving\n",
    "        for feat in gjs_dt['features']:\n",
    "            if (feat['geometry']['type'] == 'MultiPolygon'):\n",
    "                    for a in feat['geometry']['coordinates']:\n",
    "                        for b in a:\n",
    "                            for c in b:\n",
    "                                del c[2]\n",
    "            else:\n",
    "                for j in feat['geometry']['coordinates']:\n",
    "                    for q in j:\n",
    "                        del q[2]\n",
    "\n",
    "        with open(shape_path, 'w') as file:\n",
    "            geojson.dump(gjs_dt, file)\n",
    "        with rasterio.open(raster_path, \"r\") as src:    \n",
    "            raster_img = src.read()\n",
    "            raster_meta = src.meta\n",
    "\n",
    "        train_df = gpd.read_file(shape_path)\n",
    "\n",
    "        #Making binary mask by using Tif and Geojson files\n",
    "        def poly_from_utm(polygon, transform):\n",
    "            poly_pts = []\n",
    "    \n",
    "            poly = unary_union(polygon)\n",
    "            for x in np.array(poly.exterior.coords):\n",
    "        \n",
    "                # Convert polygons to the image CRS\n",
    "                poly_pts.append(~transform * tuple(x))\n",
    "        \n",
    "            # Generate a polygon object\n",
    "            new_poly = Polygon(poly_pts)\n",
    "            return new_poly\n",
    "\n",
    "        # Generate Binary maks\n",
    "\n",
    "        poly_shp = []\n",
    "        im_size = (src.meta['height'], src.meta['width'])\n",
    "        for num, row in train_df.iterrows():\n",
    "            if row['geometry'].geom_type == 'Polygon':\n",
    "                poly = poly_from_utm(row['geometry'], src.meta['transform'])\n",
    "                poly_shp.append(poly)\n",
    "            else:\n",
    "                for p in row['geometry'].geoms:\n",
    "                    poly = poly_from_utm(p, src.meta['transform'])\n",
    "                    poly_shp.append(poly)\n",
    "\n",
    "        mask = rasterize(shapes=poly_shp, \n",
    "                        out_shape=im_size)\n",
    "\n",
    "        mask = mask.astype(\"uint16\")\n",
    "        rel = r'' #Where to save all binary masks (in Tif format)\n",
    "        sving = Path(raster_path).stem\n",
    "        sving_tif = sving + '.tif'\n",
    "        save_path = os.path.join(rel,sving_tif)\n",
    "        bin_mask_meta = src.meta.copy()\n",
    "        bin_mask_meta.update({'count': 1})\n",
    "        with rasterio.open(save_path, 'w', **bin_mask_meta) as dst:\n",
    "            dst.write(mask * 255, 1)\n",
    "\n",
    "        with rasterio.open(save_path) as src:\n",
    "            data = src.read(\n",
    "                out_shape=(src.count, int(src.height), int(src.width)),\n",
    "                resampling = Resampling.bilinear\n",
    "            )\n",
    "            transform = src.transform\n",
    "        rel2 = r'' #Where to save all binary masks (in PNG format)\n",
    "        sving_png = sving + '.png'\n",
    "        with rasterio.open(os.path.join(rel2, sving_png),'w',driver='PNG', height=data.shape[1], width=data.shape[2], count=src.count, dtype = data.dtype) as dst:\n",
    "            dst.write(data)"
   ]
  },
  {
   "cell_type": "markdown",
   "metadata": {},
   "source": [
    "# Converting binary masks (PNG) to Yolov8 format (txt files)"
   ]
  },
  {
   "cell_type": "code",
   "execution_count": null,
   "metadata": {},
   "outputs": [],
   "source": [
    "input_dir = r'' #Path where you saved all binary masks (PNG)\n",
    "output_dir = r'' #Path where you saved txt files (labels)\n",
    "\n",
    "for j in os.listdir(input_dir):\n",
    "    image_path = os.path.join(input_dir, j)\n",
    "    # load the binary mask and get its contours\n",
    "    mask = cv2.imread(image_path, cv2.IMREAD_GRAYSCALE)\n",
    "    _, mask = cv2.threshold(mask, 1, 255, cv2.THRESH_BINARY)\n",
    "\n",
    "    H, W = mask.shape\n",
    "    contours, hierarchy = cv2.findContours(mask, cv2.RETR_EXTERNAL, cv2.CHAIN_APPROX_SIMPLE)\n",
    "\n",
    "    # convert the contours to polygons\n",
    "    polygons = []\n",
    "    for cnt in contours:\n",
    "        if cv2.contourArea(cnt) > 0:\n",
    "            polygon = []\n",
    "            for point in cnt:\n",
    "                x, y = point[0]\n",
    "                polygon.append(x / W)\n",
    "                polygon.append(y / H)\n",
    "            polygons.append(polygon)\n",
    "\n",
    "    # print the polygons\n",
    "    with open('{}.txt'.format(os.path.join(output_dir, j)[:-4]), 'w') as f:\n",
    "        for polygon in polygons:\n",
    "            for p_, p in enumerate(polygon):\n",
    "                if p_ == len(polygon) - 1:\n",
    "                    f.write('{}\\n'.format(p))\n",
    "                elif p_ == 0:\n",
    "                    f.write('0 {} '.format(p))\n",
    "                else:\n",
    "                    f.write('{} '.format(p))\n",
    "\n",
    "        f.close()"
   ]
  }
 ],
 "metadata": {
  "kernelspec": {
   "display_name": "digitella",
   "language": "python",
   "name": "python3"
  },
  "language_info": {
   "codemirror_mode": {
    "name": "ipython",
    "version": 3
   },
   "file_extension": ".py",
   "mimetype": "text/x-python",
   "name": "python",
   "nbconvert_exporter": "python",
   "pygments_lexer": "ipython3",
   "version": "3.12.4"
  }
 },
 "nbformat": 4,
 "nbformat_minor": 2
}
